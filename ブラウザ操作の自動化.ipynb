{
 "cells": [
  {
   "cell_type": "code",
   "execution_count": 1,
   "id": "91b1e581-7ace-4145-b0d4-9bd5d6888fb3",
   "metadata": {},
   "outputs": [
    {
     "name": "stdout",
     "output_type": "stream",
     "text": [
      "Collecting selenium\n",
      "  Downloading selenium-4.20.0-py3-none-any.whl.metadata (6.9 kB)\n",
      "Requirement already satisfied: urllib3<3,>=1.26 in c:\\users\\p8915\\appdata\\local\\programs\\python\\python312\\lib\\site-packages (from urllib3[socks]<3,>=1.26->selenium) (2.2.1)\n",
      "Collecting trio~=0.17 (from selenium)\n",
      "  Downloading trio-0.25.0-py3-none-any.whl.metadata (8.7 kB)\n",
      "Collecting trio-websocket~=0.9 (from selenium)\n",
      "  Downloading trio_websocket-0.11.1-py3-none-any.whl.metadata (4.7 kB)\n",
      "Requirement already satisfied: certifi>=2021.10.8 in c:\\users\\p8915\\appdata\\local\\programs\\python\\python312\\lib\\site-packages (from selenium) (2024.2.2)\n",
      "Collecting typing_extensions>=4.9.0 (from selenium)\n",
      "  Downloading typing_extensions-4.11.0-py3-none-any.whl.metadata (3.0 kB)\n",
      "Requirement already satisfied: attrs>=23.2.0 in c:\\users\\p8915\\appdata\\local\\programs\\python\\python312\\lib\\site-packages (from trio~=0.17->selenium) (23.2.0)\n",
      "Collecting sortedcontainers (from trio~=0.17->selenium)\n",
      "  Downloading sortedcontainers-2.4.0-py2.py3-none-any.whl.metadata (10 kB)\n",
      "Requirement already satisfied: idna in c:\\users\\p8915\\appdata\\local\\programs\\python\\python312\\lib\\site-packages (from trio~=0.17->selenium) (3.7)\n",
      "Collecting outcome (from trio~=0.17->selenium)\n",
      "  Downloading outcome-1.3.0.post0-py2.py3-none-any.whl.metadata (2.6 kB)\n",
      "Requirement already satisfied: sniffio>=1.3.0 in c:\\users\\p8915\\appdata\\local\\programs\\python\\python312\\lib\\site-packages (from trio~=0.17->selenium) (1.3.1)\n",
      "Requirement already satisfied: cffi>=1.14 in c:\\users\\p8915\\appdata\\local\\programs\\python\\python312\\lib\\site-packages (from trio~=0.17->selenium) (1.16.0)\n",
      "Collecting wsproto>=0.14 (from trio-websocket~=0.9->selenium)\n",
      "  Downloading wsproto-1.2.0-py3-none-any.whl.metadata (5.6 kB)\n",
      "Collecting pysocks!=1.5.7,<2.0,>=1.5.6 (from urllib3[socks]<3,>=1.26->selenium)\n",
      "  Downloading PySocks-1.7.1-py3-none-any.whl.metadata (13 kB)\n",
      "Requirement already satisfied: pycparser in c:\\users\\p8915\\appdata\\local\\programs\\python\\python312\\lib\\site-packages (from cffi>=1.14->trio~=0.17->selenium) (2.22)\n",
      "Requirement already satisfied: h11<1,>=0.9.0 in c:\\users\\p8915\\appdata\\local\\programs\\python\\python312\\lib\\site-packages (from wsproto>=0.14->trio-websocket~=0.9->selenium) (0.14.0)\n",
      "Downloading selenium-4.20.0-py3-none-any.whl (9.5 MB)\n",
      "   ---------------------------------------- 0.0/9.5 MB ? eta -:--:--\n",
      "   ---------------------------------------- 0.1/9.5 MB 1.7 MB/s eta 0:00:06\n",
      "    --------------------------------------- 0.2/9.5 MB 2.5 MB/s eta 0:00:04\n",
      "   - -------------------------------------- 0.4/9.5 MB 3.4 MB/s eta 0:00:03\n",
      "   -- ------------------------------------- 0.6/9.5 MB 3.7 MB/s eta 0:00:03\n",
      "   --- ------------------------------------ 0.9/9.5 MB 4.0 MB/s eta 0:00:03\n",
      "   ---- ----------------------------------- 1.2/9.5 MB 4.3 MB/s eta 0:00:02\n",
      "   ----- ---------------------------------- 1.4/9.5 MB 4.5 MB/s eta 0:00:02\n",
      "   ------ --------------------------------- 1.7/9.5 MB 4.6 MB/s eta 0:00:02\n",
      "   -------- ------------------------------- 2.0/9.5 MB 4.9 MB/s eta 0:00:02\n",
      "   --------- ------------------------------ 2.2/9.5 MB 5.0 MB/s eta 0:00:02\n",
      "   ---------- ----------------------------- 2.5/9.5 MB 5.0 MB/s eta 0:00:02\n",
      "   ----------- ---------------------------- 2.7/9.5 MB 5.1 MB/s eta 0:00:02\n",
      "   ------------ --------------------------- 3.1/9.5 MB 5.2 MB/s eta 0:00:02\n",
      "   -------------- ------------------------- 3.4/9.5 MB 5.3 MB/s eta 0:00:02\n",
      "   --------------- ------------------------ 3.7/9.5 MB 5.3 MB/s eta 0:00:02\n",
      "   ---------------- ----------------------- 4.0/9.5 MB 5.5 MB/s eta 0:00:02\n",
      "   ----------------- ---------------------- 4.2/9.5 MB 5.5 MB/s eta 0:00:01\n",
      "   ------------------- -------------------- 4.6/9.5 MB 5.5 MB/s eta 0:00:01\n",
      "   ------------------- -------------------- 4.6/9.5 MB 5.6 MB/s eta 0:00:01\n",
      "   --------------------- ------------------ 5.0/9.5 MB 5.5 MB/s eta 0:00:01\n",
      "   --------------------- ------------------ 5.1/9.5 MB 5.4 MB/s eta 0:00:01\n",
      "   ---------------------- ----------------- 5.4/9.5 MB 5.4 MB/s eta 0:00:01\n",
      "   ----------------------- ---------------- 5.7/9.5 MB 5.3 MB/s eta 0:00:01\n",
      "   ------------------------ --------------- 5.9/9.5 MB 5.3 MB/s eta 0:00:01\n",
      "   -------------------------- ------------- 6.2/9.5 MB 5.4 MB/s eta 0:00:01\n",
      "   --------------------------- ------------ 6.5/9.5 MB 5.4 MB/s eta 0:00:01\n",
      "   ---------------------------- ----------- 6.8/9.5 MB 5.5 MB/s eta 0:00:01\n",
      "   ----------------------------- ---------- 7.1/9.5 MB 5.5 MB/s eta 0:00:01\n",
      "   ------------------------------ --------- 7.3/9.5 MB 5.5 MB/s eta 0:00:01\n",
      "   ------------------------------- -------- 7.5/9.5 MB 5.4 MB/s eta 0:00:01\n",
      "   -------------------------------- ------- 7.8/9.5 MB 5.5 MB/s eta 0:00:01\n",
      "   ---------------------------------- ----- 8.1/9.5 MB 5.5 MB/s eta 0:00:01\n",
      "   ----------------------------------- ---- 8.4/9.5 MB 5.5 MB/s eta 0:00:01\n",
      "   ------------------------------------ --- 8.7/9.5 MB 5.6 MB/s eta 0:00:01\n",
      "   ------------------------------------- -- 9.0/9.5 MB 5.6 MB/s eta 0:00:01\n",
      "   ---------------------------------------  9.4/9.5 MB 5.7 MB/s eta 0:00:01\n",
      "   ---------------------------------------  9.5/9.5 MB 5.7 MB/s eta 0:00:01\n",
      "   ---------------------------------------- 9.5/9.5 MB 5.5 MB/s eta 0:00:00\n",
      "Downloading trio-0.25.0-py3-none-any.whl (467 kB)\n",
      "   ---------------------------------------- 0.0/467.2 kB ? eta -:--:--\n",
      "   ------------------- -------------------- 225.3/467.2 kB 6.9 MB/s eta 0:00:01\n",
      "   ---------------------------------------  460.8/467.2 kB 5.8 MB/s eta 0:00:01\n",
      "   ---------------------------------------- 467.2/467.2 kB 4.2 MB/s eta 0:00:00\n",
      "Downloading trio_websocket-0.11.1-py3-none-any.whl (17 kB)\n",
      "Downloading typing_extensions-4.11.0-py3-none-any.whl (34 kB)\n",
      "Downloading PySocks-1.7.1-py3-none-any.whl (16 kB)\n",
      "Downloading wsproto-1.2.0-py3-none-any.whl (24 kB)\n",
      "Downloading outcome-1.3.0.post0-py2.py3-none-any.whl (10 kB)\n",
      "Downloading sortedcontainers-2.4.0-py2.py3-none-any.whl (29 kB)\n",
      "Installing collected packages: sortedcontainers, wsproto, typing_extensions, pysocks, outcome, trio, trio-websocket, selenium\n",
      "Successfully installed outcome-1.3.0.post0 pysocks-1.7.1 selenium-4.20.0 sortedcontainers-2.4.0 trio-0.25.0 trio-websocket-0.11.1 typing_extensions-4.11.0 wsproto-1.2.0\n"
     ]
    }
   ],
   "source": [
    "!pip install selenium"
   ]
  },
  {
   "cell_type": "code",
   "execution_count": 49,
   "id": "d68333f4-6a70-4858-812f-940c0ae7f654",
   "metadata": {},
   "outputs": [],
   "source": [
    "from selenium import webdriver\n",
    "from selenium.webdriver.common.by import By"
   ]
  },
  {
   "cell_type": "code",
   "execution_count": 37,
   "id": "81a29f46-7504-41f6-9c89-25d159cc461b",
   "metadata": {},
   "outputs": [],
   "source": [
    "browser = webdriver.Chrome() #クローム起動 定義"
   ]
  },
  {
   "cell_type": "code",
   "execution_count": 50,
   "id": "bf4f1226-a1f3-4a13-9c6e-c14b5c9ba976",
   "metadata": {},
   "outputs": [],
   "source": [
    "browser.get(\"https://yahoo.co.jp\") #ブラウザの値"
   ]
  },
  {
   "cell_type": "code",
   "execution_count": 51,
   "id": "c1b52c97-6a3a-4182-a79c-0969e488b488",
   "metadata": {},
   "outputs": [],
   "source": [
    "box=browser.find_element(By.NAME,\"p\") #検索ボックスの定義"
   ]
  },
  {
   "cell_type": "code",
   "execution_count": 52,
   "id": "7570f217-cd70-4958-a25c-4f863313c96d",
   "metadata": {},
   "outputs": [],
   "source": [
    "box.send_keys(\"python\") #検索ボックスの値"
   ]
  },
  {
   "cell_type": "code",
   "execution_count": 53,
   "id": "a74254f3-fdbe-4a5e-92b7-1a87efdeb598",
   "metadata": {},
   "outputs": [],
   "source": [
    "search_button = search_button=browser.find_element(By.XPATH,\"/html/body/div[1]/div/header/section[1]/div/form/fieldset/span/button\") #検索ボタンの定義　XPATHを利用している"
   ]
  },
  {
   "cell_type": "code",
   "execution_count": 54,
   "id": "1a4c39e2-3170-4d32-a917-8b39aa076434",
   "metadata": {},
   "outputs": [],
   "source": [
    "search_button.click() #検索ボタンの値"
   ]
  },
  {
   "cell_type": "code",
   "execution_count": 2,
   "id": "e192e517-c957-45e9-a20c-56f5d90eb665",
   "metadata": {},
   "outputs": [],
   "source": [
    "import os\n",
    "os.mkdir('/Users/p8915/Downloads/test')"
   ]
  },
  {
   "cell_type": "code",
   "execution_count": 73,
   "id": "cb18ff80-5216-4b17-b21e-355002b5b244",
   "metadata": {},
   "outputs": [],
   "source": [
    "os.mkdir('./test')"
   ]
  },
  {
   "cell_type": "code",
   "execution_count": 59,
   "id": "ee04b624-36b8-44b6-b9e6-3ad517e8fbaa",
   "metadata": {},
   "outputs": [
    {
     "data": {
      "text/plain": [
       "'C:\\\\Users\\\\p8915\\\\Desktop\\\\python\\\\ブラウザ操作自動化'"
      ]
     },
     "execution_count": 59,
     "metadata": {},
     "output_type": "execute_result"
    }
   ],
   "source": [
    "import os \n",
    "os.getcwd()"
   ]
  },
  {
   "cell_type": "code",
   "execution_count": 82,
   "id": "e958ff6e-c3c2-4c7d-86b5-aa01ffbd1ff2",
   "metadata": {},
   "outputs": [],
   "source": [
    "from selenium import webdriver\n",
    "from selenium.webdriver.common.by import By\n",
    "import os\n",
    "import time\n",
    "\n",
    "browser = webdriver.Chrome()\n",
    "browser.get(\"https://www.mhlw.go.jp/stf/covid-19/open-data.html\")\n",
    "\n",
    "download_button = browser.find_element(By.XPATH,\"/html/body/div[1]/main/div[2]/div/div/div[3]/div/p/a\")\n",
    "download_button.click()\n",
    "\n",
    "time.sleep(3)\n",
    "\n",
    "os.remove('./../../../Downloads/001060467.csv')"
   ]
  },
  {
   "cell_type": "code",
   "execution_count": null,
   "id": "6be90f1c-e3bb-4e21-8397-5ecb72be2e7b",
   "metadata": {},
   "outputs": [],
   "source": []
  },
  {
   "cell_type": "code",
   "execution_count": 8,
   "id": "018e8700-f0d3-4c26-a835-b04ee2c47347",
   "metadata": {},
   "outputs": [],
   "source": [
    "from glob import glob\n",
    "import os\n",
    "\n",
    "files = glob(r'/Users/p8915/Downloads/*')\n",
    "\n",
    "sorted_files = sorted(files,key=os.path.getmtime)"
   ]
  },
  {
   "cell_type": "code",
   "execution_count": 9,
   "id": "b7bf47cd-f29b-45f1-be39-f4dbd02f0872",
   "metadata": {},
   "outputs": [
    {
     "data": {
      "text/plain": [
       "['/Users/p8915/Downloads\\\\1_初級.pdf',\n",
       " '/Users/p8915/Downloads\\\\2_中級_Lv1.pdf',\n",
       " '/Users/p8915/Downloads\\\\6_上級.pdf',\n",
       " '/Users/p8915/Downloads\\\\ChromeSetup.exe',\n",
       " '/Users/p8915/Downloads\\\\desktop.ini',\n",
       " '/Users/p8915/Downloads\\\\Git-2.44.0-64-bit.exe',\n",
       " '/Users/p8915/Downloads\\\\hpe-r1500-g5-ups (1).pdf',\n",
       " '/Users/p8915/Downloads\\\\hpe-r1500-g5-ups.pdf',\n",
       " '/Users/p8915/Downloads\\\\python-3.12.3-amd64.exe',\n",
       " '/Users/p8915/Downloads\\\\sc_cart_item_afcfb54dc3a946d0bfa667359901318b_attachments.zip',\n",
       " '/Users/p8915/Downloads\\\\test',\n",
       " '/Users/p8915/Downloads\\\\test.txt',\n",
       " '/Users/p8915/Downloads\\\\user-data',\n",
       " '/Users/p8915/Downloads\\\\~$パソコン社外持ち出し申請書(Win10、11標準PC用) 一括申請.xlsx',\n",
       " '/Users/p8915/Downloads\\\\パソコン社外持ち出し申請書(Win10、11標準PC用) 一括申請.xlsx',\n",
       " '/Users/p8915/Downloads\\\\台帳 (1).csv',\n",
       " '/Users/p8915/Downloads\\\\台帳.csv',\n",
       " '/Users/p8915/Downloads\\\\情報管理コーディネーター会議議事録20231026.pdf',\n",
       " '/Users/p8915/Downloads\\\\承認依頼：サーバ稼働状況・バックアップ・定期ジョブチェックリスト.pdf',\n",
       " '/Users/p8915/Downloads\\\\栃木ニコンCATIA統合_横須賀説明資料_20240403 (1).pptx']"
      ]
     },
     "execution_count": 9,
     "metadata": {},
     "output_type": "execute_result"
    }
   ],
   "source": [
    "files"
   ]
  },
  {
   "cell_type": "code",
   "execution_count": 10,
   "id": "91b0d82b-211d-4910-be49-ceebd947a96f",
   "metadata": {},
   "outputs": [
    {
     "data": {
      "text/plain": [
       "['/Users/p8915/Downloads\\\\desktop.ini',\n",
       " '/Users/p8915/Downloads\\\\~$パソコン社外持ち出し申請書(Win10、11標準PC用) 一括申請.xlsx',\n",
       " '/Users/p8915/Downloads\\\\パソコン社外持ち出し申請書(Win10、11標準PC用) 一括申請.xlsx',\n",
       " '/Users/p8915/Downloads\\\\sc_cart_item_afcfb54dc3a946d0bfa667359901318b_attachments.zip',\n",
       " '/Users/p8915/Downloads\\\\栃木ニコンCATIA統合_横須賀説明資料_20240403 (1).pptx',\n",
       " '/Users/p8915/Downloads\\\\user-data',\n",
       " '/Users/p8915/Downloads\\\\ChromeSetup.exe',\n",
       " '/Users/p8915/Downloads\\\\1_初級.pdf',\n",
       " '/Users/p8915/Downloads\\\\2_中級_Lv1.pdf',\n",
       " '/Users/p8915/Downloads\\\\6_上級.pdf',\n",
       " '/Users/p8915/Downloads\\\\台帳.csv',\n",
       " '/Users/p8915/Downloads\\\\台帳 (1).csv',\n",
       " '/Users/p8915/Downloads\\\\Git-2.44.0-64-bit.exe',\n",
       " '/Users/p8915/Downloads\\\\python-3.12.3-amd64.exe',\n",
       " '/Users/p8915/Downloads\\\\hpe-r1500-g5-ups.pdf',\n",
       " '/Users/p8915/Downloads\\\\hpe-r1500-g5-ups (1).pdf',\n",
       " '/Users/p8915/Downloads\\\\情報管理コーディネーター会議議事録20231026.pdf',\n",
       " '/Users/p8915/Downloads\\\\承認依頼：サーバ稼働状況・バックアップ・定期ジョブチェックリスト.pdf',\n",
       " '/Users/p8915/Downloads\\\\test.txt',\n",
       " '/Users/p8915/Downloads\\\\test']"
      ]
     },
     "execution_count": 10,
     "metadata": {},
     "output_type": "execute_result"
    }
   ],
   "source": [
    "sorted_files"
   ]
  },
  {
   "cell_type": "code",
   "execution_count": null,
   "id": "930ce422-2b17-41b0-99b8-702ac11dfcea",
   "metadata": {},
   "outputs": [],
   "source": []
  },
  {
   "cell_type": "code",
   "execution_count": null,
   "id": "ec23066e-e349-4e35-b1c6-d842a0724bd2",
   "metadata": {},
   "outputs": [],
   "source": []
  },
  {
   "cell_type": "code",
   "execution_count": 68,
   "id": "ffcabfad-6c1e-4661-80ef-0d52f647ccc3",
   "metadata": {},
   "outputs": [
    {
     "name": "stdout",
     "output_type": "stream",
     "text": [
      "test\n",
      "test\n",
      "test\n",
      "test\n",
      "test\n",
      "test\n",
      "test\n",
      "test\n"
     ]
    },
    {
     "ename": "KeyboardInterrupt",
     "evalue": "",
     "output_type": "error",
     "traceback": [
      "\u001b[1;31m---------------------------------------------------------------------------\u001b[0m",
      "\u001b[1;31mKeyboardInterrupt\u001b[0m                         Traceback (most recent call last)",
      "Cell \u001b[1;32mIn[68], line 7\u001b[0m\n\u001b[0;32m      5\u001b[0m \u001b[38;5;28;01mwhile\u001b[39;00m \u001b[38;5;28;01mTrue\u001b[39;00m :\n\u001b[0;32m      6\u001b[0m     \u001b[38;5;28mprint\u001b[39m(\u001b[38;5;124m\"\u001b[39m\u001b[38;5;124mtest\u001b[39m\u001b[38;5;124m\"\u001b[39m)\n\u001b[1;32m----> 7\u001b[0m     \u001b[43mtime\u001b[49m\u001b[38;5;241;43m.\u001b[39;49m\u001b[43msleep\u001b[49m\u001b[43m(\u001b[49m\u001b[38;5;241;43m1\u001b[39;49m\u001b[43m)\u001b[49m\n",
      "\u001b[1;31mKeyboardInterrupt\u001b[0m: "
     ]
    }
   ],
   "source": [
    "import time\n",
    "\n",
    "gu = time.strftime(\"%S\")\n",
    "\n",
    "while True :\n",
    "    print(\"test\")\n",
    "    time.sleep(1)"
   ]
  },
  {
   "cell_type": "code",
   "execution_count": null,
   "id": "e824002e-c691-4cdd-84ee-76e73090ccc0",
   "metadata": {},
   "outputs": [],
   "source": []
  }
 ],
 "metadata": {
  "kernelspec": {
   "display_name": "Python 3 (ipykernel)",
   "language": "python",
   "name": "python3"
  },
  "language_info": {
   "codemirror_mode": {
    "name": "ipython",
    "version": 3
   },
   "file_extension": ".py",
   "mimetype": "text/x-python",
   "name": "python",
   "nbconvert_exporter": "python",
   "pygments_lexer": "ipython3",
   "version": "3.12.3"
  }
 },
 "nbformat": 4,
 "nbformat_minor": 5
}
